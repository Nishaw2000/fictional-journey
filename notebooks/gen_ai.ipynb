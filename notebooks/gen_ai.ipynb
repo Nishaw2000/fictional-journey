{
 "cells": [
  {
   "cell_type": "code",
   "execution_count": 1,
   "metadata": {},
   "outputs": [
    {
     "name": "stdout",
     "output_type": "stream",
     "text": [
      "NASA's Apollo 11 mission successfully landed on the Moon on July 20, 1969. The first person to set foot on the Moon was Neil Armstrong, followed by Edwin \"Buzz\" Aldrin. They spent about two and a half hours on the lunar surface.\n",
      "\n",
      "Here's a brief timeline of the Apollo 11 mission:\n",
      "\n",
      "1. July 16, 1969: Apollo 11 launched from Kennedy Space Center in Florida.\n",
      "2. July 20, 1969: The spacecraft entered lunar orbit and the lunar module Eagle separated from the command module Columbia.\n",
      "3. July 20, 1969 (20:17 UTC): The Eagle landed on the Moon's surface in the Sea of Tranquility.\n",
      "4. July 20, 1969 (02:56 UTC): Neil Armstrong became the first person to set foot on the Moon, famously declaring, \"That's one small step for man, one giant leap for mankind.\"\n",
      "5. July 21, 1969: The astronauts returned to the Eagle and lifted off from the Moon.\n",
      "6. July 24, 1969: The Apollo 11 spacecraft successfully splashed down in the Pacific Ocean.\n",
      "\n",
      "Neil Armstrong and Buzz Aldrin's historic moonwalk marked a major milestone in space exploration and paved the way for future space missions.\n"
     ]
    }
   ],
   "source": [
    "from langchain_groq import ChatGroq\n",
    "llm = ChatGroq(\n",
    "    model= \"llama-3.1-70b-versatile\",\n",
    "    temperature=0,\n",
    "    groq_api_key= \"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\",\n",
    ")\n",
    "response= llm.invoke(\"who land on moon first?\")\n",
    "print(response.content)"
   ]
  },
  {
   "cell_type": "code",
   "execution_count": 2,
   "metadata": {},
   "outputs": [
    {
     "name": "stdout",
     "output_type": "stream",
     "text": [
      "\u001b[31mERROR: Could not find a version that satisfies the requirement sqlite3 (from versions: none)\u001b[0m\u001b[31m\n",
      "\u001b[0m\u001b[31mERROR: No matching distribution found for sqlite3\u001b[0m\u001b[31m\n",
      "\u001b[0m"
     ]
    }
   ],
   "source": [
    "!pip install sqlite3"
   ]
  },
  {
   "cell_type": "code",
   "execution_count": 3,
   "metadata": {},
   "outputs": [],
   "source": [
    "# ⚠️ USE AT YOUR OWN RISK\n",
    "# first: pip install pysqlite3-binary\n",
    "# then in settings.py:\n",
    " \n",
    "# these three lines swap the stdlib sqlite3 lib with the pysqlite3 package\n",
    "__import__('pysqlite3')\n",
    "import sys\n",
    "import os\n",
    "sys.modules['sqlite3'] = sys.modules.pop('pysqlite3')\n",
    " \n",
    "DATABASES = {\n",
    "    'default': {\n",
    "        'ENGINE': 'django.db.backends.sqlite3',\n",
    "        'NAME': os.path.join('/workspaces/codespaces-jupyter/', 'db.sqlite3'),\n",
    "    }\n",
    "}\n"
   ]
  },
  {
   "cell_type": "code",
   "execution_count": 4,
   "metadata": {},
   "outputs": [
    {
     "name": "stdout",
     "output_type": "stream",
     "text": [
      "3.46.1\n"
     ]
    }
   ],
   "source": [
    "import sqlite3\n",
    "print(sqlite3.sqlite_version)"
   ]
  },
  {
   "cell_type": "code",
   "execution_count": 5,
   "metadata": {},
   "outputs": [
    {
     "name": "stdout",
     "output_type": "stream",
     "text": [
      "Requirement already satisfied: pysqlite3-binary in /usr/local/python/3.12.1/lib/python3.12/site-packages (0.5.3.post1)\n"
     ]
    }
   ],
   "source": [
    "!pip install pysqlite3-binary"
   ]
  },
  {
   "cell_type": "code",
   "execution_count": 6,
   "metadata": {},
   "outputs": [
    {
     "data": {
      "text/plain": [
       "'import chromadb\\nchroma_client = chromadb.Client()\\ncollection = chroma_client.create_collection(name=\"my_collection\")\\ncollection.add(\\n    documents=[\\n        \"This is a document about pineapple\",\\n        \"This is a document about oranges\"\\n    ],\\n    ids=[\"id1\", \"id2\"]\\n)\\nresults = collection.query(\\n    query_texts=[\"This is a query document about hawaii\"], # Chroma will embed this for you\\n    n_results=2 # how many results to return\\n)\\nprint(results)'"
      ]
     },
     "execution_count": 6,
     "metadata": {},
     "output_type": "execute_result"
    }
   ],
   "source": [
    "\n",
    "'''import chromadb\n",
    "chroma_client = chromadb.Client()\n",
    "collection = chroma_client.create_collection(name=\"my_collection\")\n",
    "collection.add(\n",
    "    documents=[\n",
    "        \"This is a document about pineapple\",\n",
    "        \"This is a document about oranges\"\n",
    "    ],\n",
    "    ids=[\"id1\", \"id2\"]\n",
    ")\n",
    "results = collection.query(\n",
    "    query_texts=[\"This is a query document about hawaii\"], # Chroma will embed this for you\n",
    "    n_results=2 # how many results to return\n",
    ")\n",
    "print(results)'''"
   ]
  },
  {
   "cell_type": "code",
   "execution_count": 7,
   "metadata": {},
   "outputs": [
    {
     "name": "stderr",
     "output_type": "stream",
     "text": [
      "USER_AGENT environment variable not set, consider setting it to identify your requests.\n"
     ]
    },
    {
     "name": "stdout",
     "output_type": "stream",
     "text": [
      "\n",
      "\n",
      "Search JobsSkip navigationSearch JobsNIKE, INC. JOBSContract JobsJoin The Talent CommunityLife @ NikeOverviewBenefitsBrandsOverviewJordanConverseTeamsOverviewAdministrative SupportAdvanced InnovationAir Manufacturing InnovationAviationCommunicationsCustomer ServiceDesignDigitalFacilitiesFinance & AccountingGovernment & Public AffairsHuman ResourcesInsights & AnalyticsLegalManufacturing & EngineeringMarketingMerchandisingPlanningPrivacyProcurementProduct Creation, Development & ManagementRetail CorporateRetail StoresSalesSocial & Community ImpactSports MarketingStrategic PlanningSupply Chain, Distribution & LogisticsSustainabilityTechnologyLocationsOverviewNike WHQNike New York HQEHQ: Hilversum, The NetherlandsELC: Laakdal, BelgiumGreater China HQDiversity, Equity & InclusionOverviewMilitary InclusionDisability InclusionIndigenous InclusionInternshipsFIND A STOREBECOME A MEMBERSIGN UP FOR EMAILSEND US FEEDBACKSTUDENT DISCOUNTSGET HELPGET HELPOrder StatusDeliveryReturnsPayment OptionsContact Us On Nike.com InquiriesContact Us On All Other InquiriesABOUT NIKEABOUT NIKENewsCareersInvestorsSustainabilityIndia© 2024 Nike, Inc. All Rights ReservedGuidesNike AdaptNike Air MaxNike FlyleatherNike PegasusNike Zoom FlyNike AirNike FlyEaseNike FreeNike ReactNike ZoomXNike Air Force 1Nike FlyknitNike JoyrideNike VaporflyTerms of SaleTerms of UseNike Privacy Policy\n"
     ]
    }
   ],
   "source": [
    "from langchain_community.document_loaders import WebBaseLoader\n",
    "loader = WebBaseLoader(\"https://jobs.nike.com/job/R-33460\")\n",
    "page_data = loader.load().pop().page_content\n",
    "print(page_data)"
   ]
  },
  {
   "cell_type": "code",
   "execution_count": 8,
   "metadata": {},
   "outputs": [
    {
     "name": "stdout",
     "output_type": "stream",
     "text": [
      "```json\n",
      "[\n",
      "  {\n",
      "    \"role\": \"Administrative Support\",\n",
      "    \"experience\": \"\",\n",
      "    \"skill\": \"\",\n",
      "    \"description\": \"\"\n",
      "  },\n",
      "  {\n",
      "    \"role\": \"Advanced Innovation\",\n",
      "    \"experience\": \"\",\n",
      "    \"skill\": \"\",\n",
      "    \"description\": \"\"\n",
      "  },\n",
      "  {\n",
      "    \"role\": \"Air Manufacturing Innovation\",\n",
      "    \"experience\": \"\",\n",
      "    \"skill\": \"\",\n",
      "    \"description\": \"\"\n",
      "  },\n",
      "  {\n",
      "    \"role\": \"Aviation\",\n",
      "    \"experience\": \"\",\n",
      "    \"skill\": \"\",\n",
      "    \"description\": \"\"\n",
      "  },\n",
      "  {\n",
      "    \"role\": \"Communications\",\n",
      "    \"experience\": \"\",\n",
      "    \"skill\": \"\",\n",
      "    \"description\": \"\"\n",
      "  },\n",
      "  {\n",
      "    \"role\": \"Customer Service\",\n",
      "    \"experience\": \"\",\n",
      "    \"skill\": \"\",\n",
      "    \"description\": \"\"\n",
      "  },\n",
      "  {\n",
      "    \"role\": \"Design\",\n",
      "    \"experience\": \"\",\n",
      "    \"skill\": \"\",\n",
      "    \"description\": \"\"\n",
      "  },\n",
      "  {\n",
      "    \"role\": \"Digital\",\n",
      "    \"experience\": \"\",\n",
      "    \"skill\": \"\",\n",
      "    \"description\": \"\"\n",
      "  },\n",
      "  {\n",
      "    \"role\": \"Facilities\",\n",
      "    \"experience\": \"\",\n",
      "    \"skill\": \"\",\n",
      "    \"description\": \"\"\n",
      "  },\n",
      "  {\n",
      "    \"role\": \"Finance & Accounting\",\n",
      "    \"experience\": \"\",\n",
      "    \"skill\": \"\",\n",
      "    \"description\": \"\"\n",
      "  },\n",
      "  {\n",
      "    \"role\": \"Government & Public Affairs\",\n",
      "    \"experience\": \"\",\n",
      "    \"skill\": \"\",\n",
      "    \"description\": \"\"\n",
      "  },\n",
      "  {\n",
      "    \"role\": \"Human Resources\",\n",
      "    \"experience\": \"\",\n",
      "    \"skill\": \"\",\n",
      "    \"description\": \"\"\n",
      "  },\n",
      "  {\n",
      "    \"role\": \"Insights & Analytics\",\n",
      "    \"experience\": \"\",\n",
      "    \"skill\": \"\",\n",
      "    \"description\": \"\"\n",
      "  },\n",
      "  {\n",
      "    \"role\": \"Legal\",\n",
      "    \"experience\": \"\",\n",
      "    \"skill\": \"\",\n",
      "    \"description\": \"\"\n",
      "  },\n",
      "  {\n",
      "    \"role\": \"Manufacturing & Engineering\",\n",
      "    \"experience\": \"\",\n",
      "    \"skill\": \"\",\n",
      "    \"description\": \"\"\n",
      "  },\n",
      "  {\n",
      "    \"role\": \"Marketing\",\n",
      "    \"experience\": \"\",\n",
      "    \"skill\": \"\",\n",
      "    \"description\": \"\"\n",
      "  },\n",
      "  {\n",
      "    \"role\": \"Merchandising\",\n",
      "    \"experience\": \"\",\n",
      "    \"skill\": \"\",\n",
      "    \"description\": \"\"\n",
      "  },\n",
      "  {\n",
      "    \"role\": \"Planning\",\n",
      "    \"experience\": \"\",\n",
      "    \"skill\": \"\",\n",
      "    \"description\": \"\"\n",
      "  },\n",
      "  {\n",
      "    \"role\": \"Privacy\",\n",
      "    \"experience\": \"\",\n",
      "    \"skill\": \"\",\n",
      "    \"description\": \"\"\n",
      "  },\n",
      "  {\n",
      "    \"role\": \"Procurement\",\n",
      "    \"experience\": \"\",\n",
      "    \"skill\": \"\",\n",
      "    \"description\": \"\"\n",
      "  },\n",
      "  {\n",
      "    \"role\": \"Product Creation, Development & Management\",\n",
      "    \"experience\": \"\",\n",
      "    \"skill\": \"\",\n",
      "    \"description\": \"\"\n",
      "  },\n",
      "  {\n",
      "    \"role\": \"Retail Corporate\",\n",
      "    \"experience\": \"\",\n",
      "    \"skill\": \"\",\n",
      "    \"description\": \"\"\n",
      "  },\n",
      "  {\n",
      "    \"role\": \"Retail Stores\",\n",
      "    \"experience\": \"\",\n",
      "    \"skill\": \"\",\n",
      "    \"description\": \"\"\n",
      "  },\n",
      "  {\n",
      "    \"role\": \"Sales\",\n",
      "    \"experience\": \"\",\n",
      "    \"skill\": \"\",\n",
      "    \"description\": \"\"\n",
      "  },\n",
      "  {\n",
      "    \"role\": \"Social & Community Impact\",\n",
      "    \"experience\": \"\",\n",
      "    \"skill\": \"\",\n",
      "    \"description\": \"\"\n",
      "  },\n",
      "  {\n",
      "    \"role\": \"Sports Marketing\",\n",
      "    \"experience\": \"\",\n",
      "    \"skill\": \"\",\n",
      "    \"description\": \"\"\n",
      "  },\n",
      "  {\n",
      "    \"role\": \"Strategic Planning\",\n",
      "    \"experience\": \"\",\n",
      "    \"skill\": \"\",\n",
      "    \"description\": \"\"\n",
      "  },\n",
      "  {\n",
      "    \"role\": \"Supply Chain, Distribution & Logistics\",\n",
      "    \"experience\": \"\",\n",
      "    \"skill\": \"\",\n",
      "    \"description\": \"\"\n",
      "  },\n",
      "  {\n",
      "    \"role\": \"Sustainability\",\n",
      "    \"experience\": \"\",\n",
      "    \"skill\": \"\",\n",
      "    \"description\": \"\"\n",
      "  },\n",
      "  {\n",
      "    \"role\": \"Technology\",\n",
      "    \"experience\": \"\",\n",
      "    \"skill\": \"\",\n",
      "    \"description\": \"\"\n",
      "  }\n",
      "]\n",
      "```\n"
     ]
    }
   ],
   "source": [
    "from langchain_core.prompts import PromptTemplate\n",
    "prompt_extract = PromptTemplate.from_template(\n",
    "    \"\"\"\n",
    "    ###SCRAPED TEXT FROM WEBSITE:\n",
    "    {page_data}\n",
    "    ###INSTRUCTION :\n",
    "    the scraped text is from career page of a website.\n",
    "    your job is to extract the job postings and return them in json format containing the following \n",
    "    keys: 'role', 'experience', 'skill' and 'description'.\n",
    "    ONLY RETURN THE VALID JSON\n",
    "    valid JSON(NO PREAMBLE):\n",
    "\"\"\"\n",
    ")\n",
    "chain_extract = prompt_extract|llm\n",
    "res= chain_extract.invoke(input={'page_data': page_data})\n",
    "print(res.content)"
   ]
  },
  {
   "cell_type": "code",
   "execution_count": 9,
   "metadata": {},
   "outputs": [
    {
     "name": "stdout",
     "output_type": "stream",
     "text": [
      "[{'role': 'Administrative Support', 'experience': '', 'skill': '', 'description': ''}, {'role': 'Advanced Innovation', 'experience': '', 'skill': '', 'description': ''}, {'role': 'Air Manufacturing Innovation', 'experience': '', 'skill': '', 'description': ''}, {'role': 'Aviation', 'experience': '', 'skill': '', 'description': ''}, {'role': 'Communications', 'experience': '', 'skill': '', 'description': ''}, {'role': 'Customer Service', 'experience': '', 'skill': '', 'description': ''}, {'role': 'Design', 'experience': '', 'skill': '', 'description': ''}, {'role': 'Digital', 'experience': '', 'skill': '', 'description': ''}, {'role': 'Facilities', 'experience': '', 'skill': '', 'description': ''}, {'role': 'Finance & Accounting', 'experience': '', 'skill': '', 'description': ''}, {'role': 'Government & Public Affairs', 'experience': '', 'skill': '', 'description': ''}, {'role': 'Human Resources', 'experience': '', 'skill': '', 'description': ''}, {'role': 'Insights & Analytics', 'experience': '', 'skill': '', 'description': ''}, {'role': 'Legal', 'experience': '', 'skill': '', 'description': ''}, {'role': 'Manufacturing & Engineering', 'experience': '', 'skill': '', 'description': ''}, {'role': 'Marketing', 'experience': '', 'skill': '', 'description': ''}, {'role': 'Merchandising', 'experience': '', 'skill': '', 'description': ''}, {'role': 'Planning', 'experience': '', 'skill': '', 'description': ''}, {'role': 'Privacy', 'experience': '', 'skill': '', 'description': ''}, {'role': 'Procurement', 'experience': '', 'skill': '', 'description': ''}, {'role': 'Product Creation, Development & Management', 'experience': '', 'skill': '', 'description': ''}, {'role': 'Retail Corporate', 'experience': '', 'skill': '', 'description': ''}, {'role': 'Retail Stores', 'experience': '', 'skill': '', 'description': ''}, {'role': 'Sales', 'experience': '', 'skill': '', 'description': ''}, {'role': 'Social & Community Impact', 'experience': '', 'skill': '', 'description': ''}, {'role': 'Sports Marketing', 'experience': '', 'skill': '', 'description': ''}, {'role': 'Strategic Planning', 'experience': '', 'skill': '', 'description': ''}, {'role': 'Supply Chain, Distribution & Logistics', 'experience': '', 'skill': '', 'description': ''}, {'role': 'Sustainability', 'experience': '', 'skill': '', 'description': ''}, {'role': 'Technology', 'experience': '', 'skill': '', 'description': ''}]\n"
     ]
    }
   ],
   "source": [
    "from langchain_core.output_parsers import JsonOutputParser\n",
    "json_parser = JsonOutputParser()\n",
    "json_res = json_parser.parse(res.content)\n",
    "print(json_res)"
   ]
  },
  {
   "cell_type": "code",
   "execution_count": 10,
   "metadata": {},
   "outputs": [
    {
     "data": {
      "text/plain": [
       "list"
      ]
     },
     "execution_count": 10,
     "metadata": {},
     "output_type": "execute_result"
    }
   ],
   "source": [
    "type(json_res)"
   ]
  },
  {
   "cell_type": "code",
   "execution_count": 11,
   "metadata": {},
   "outputs": [
    {
     "data": {
      "text/html": [
       "<div>\n",
       "<style scoped>\n",
       "    .dataframe tbody tr th:only-of-type {\n",
       "        vertical-align: middle;\n",
       "    }\n",
       "\n",
       "    .dataframe tbody tr th {\n",
       "        vertical-align: top;\n",
       "    }\n",
       "\n",
       "    .dataframe thead th {\n",
       "        text-align: right;\n",
       "    }\n",
       "</style>\n",
       "<table border=\"1\" class=\"dataframe\">\n",
       "  <thead>\n",
       "    <tr style=\"text-align: right;\">\n",
       "      <th></th>\n",
       "      <th>Techstack</th>\n",
       "      <th>Links</th>\n",
       "    </tr>\n",
       "  </thead>\n",
       "  <tbody>\n",
       "    <tr>\n",
       "      <th>0</th>\n",
       "      <td>React, Node.js, MongoDB</td>\n",
       "      <td>https://example.com/react-portfolio</td>\n",
       "    </tr>\n",
       "    <tr>\n",
       "      <th>1</th>\n",
       "      <td>Angular,.NET, SQL Server</td>\n",
       "      <td>https://example.com/angular-portfolio</td>\n",
       "    </tr>\n",
       "    <tr>\n",
       "      <th>2</th>\n",
       "      <td>Vue.js, Ruby on Rails, PostgreSQL</td>\n",
       "      <td>https://example.com/vue-portfolio</td>\n",
       "    </tr>\n",
       "    <tr>\n",
       "      <th>3</th>\n",
       "      <td>Python, Django, MySQL</td>\n",
       "      <td>https://example.com/python-portfolio</td>\n",
       "    </tr>\n",
       "    <tr>\n",
       "      <th>4</th>\n",
       "      <td>Java, Spring Boot, Oracle</td>\n",
       "      <td>https://example.com/java-portfolio</td>\n",
       "    </tr>\n",
       "  </tbody>\n",
       "</table>\n",
       "</div>"
      ],
      "text/plain": [
       "                           Techstack                                  Links\n",
       "0            React, Node.js, MongoDB    https://example.com/react-portfolio\n",
       "1           Angular,.NET, SQL Server  https://example.com/angular-portfolio\n",
       "2  Vue.js, Ruby on Rails, PostgreSQL      https://example.com/vue-portfolio\n",
       "3              Python, Django, MySQL   https://example.com/python-portfolio\n",
       "4          Java, Spring Boot, Oracle     https://example.com/java-portfolio"
      ]
     },
     "execution_count": 11,
     "metadata": {},
     "output_type": "execute_result"
    }
   ],
   "source": [
    "import pandas as pd\n",
    "url = \"https://raw.githubusercontent.com/codebasics/project-genai-cold-email-generator/main/my_portfolio.csv\"\n",
    "df = pd.read_csv(url)\n",
    "df.head()\n"
   ]
  },
  {
   "cell_type": "code",
   "execution_count": 12,
   "metadata": {},
   "outputs": [],
   "source": [
    "import uuid\n",
    "import chromadb\n",
    "client = chromadb.PersistentClient('vectorstore')\n",
    "collection = client.get_or_create_collection(name= \"portfolio\")\n",
    "\n",
    "if not collection.count():\n",
    "    for _, row in df.iterrows():\n",
    "        collection.add(documents=row[\"Techstack\"],\n",
    "                       metadatas = {\"links\":row[\"Links\"]}, ids= [str(uuid.uuid4())])\n",
    "        \n",
    "\n"
   ]
  },
  {
   "cell_type": "code",
   "execution_count": 13,
   "metadata": {},
   "outputs": [
    {
     "name": "stdout",
     "output_type": "stream",
     "text": [
      "[[{'links': 'https://example.com/ml-python-portfolio'}, {'links': 'https://example.com/python-portfolio'}], [{'links': 'https://example.com/react-native-portfolio'}, {'links': 'https://example.com/react-portfolio'}]]\n"
     ]
    }
   ],
   "source": [
    "link = collection.query(query_texts=[\"Experience in Python\", \"Experience in React Native\"], n_results=2).get('metadatas', [])\n",
    "print(link)"
   ]
  },
  {
   "cell_type": "code",
   "execution_count": 14,
   "metadata": {},
   "outputs": [
    {
     "name": "stdout",
     "output_type": "stream",
     "text": [
      "[{'role': 'Administrative Support', 'experience': '', 'skill': '', 'description': ''}, {'role': 'Advanced Innovation', 'experience': '', 'skill': '', 'description': ''}, {'role': 'Air Manufacturing Innovation', 'experience': '', 'skill': '', 'description': ''}, {'role': 'Aviation', 'experience': '', 'skill': '', 'description': ''}, {'role': 'Communications', 'experience': '', 'skill': '', 'description': ''}, {'role': 'Customer Service', 'experience': '', 'skill': '', 'description': ''}, {'role': 'Design', 'experience': '', 'skill': '', 'description': ''}, {'role': 'Digital', 'experience': '', 'skill': '', 'description': ''}, {'role': 'Facilities', 'experience': '', 'skill': '', 'description': ''}, {'role': 'Finance & Accounting', 'experience': '', 'skill': '', 'description': ''}, {'role': 'Government & Public Affairs', 'experience': '', 'skill': '', 'description': ''}, {'role': 'Human Resources', 'experience': '', 'skill': '', 'description': ''}, {'role': 'Insights & Analytics', 'experience': '', 'skill': '', 'description': ''}, {'role': 'Legal', 'experience': '', 'skill': '', 'description': ''}, {'role': 'Manufacturing & Engineering', 'experience': '', 'skill': '', 'description': ''}, {'role': 'Marketing', 'experience': '', 'skill': '', 'description': ''}, {'role': 'Merchandising', 'experience': '', 'skill': '', 'description': ''}, {'role': 'Planning', 'experience': '', 'skill': '', 'description': ''}, {'role': 'Privacy', 'experience': '', 'skill': '', 'description': ''}, {'role': 'Procurement', 'experience': '', 'skill': '', 'description': ''}, {'role': 'Product Creation, Development & Management', 'experience': '', 'skill': '', 'description': ''}, {'role': 'Retail Corporate', 'experience': '', 'skill': '', 'description': ''}, {'role': 'Retail Stores', 'experience': '', 'skill': '', 'description': ''}, {'role': 'Sales', 'experience': '', 'skill': '', 'description': ''}, {'role': 'Social & Community Impact', 'experience': '', 'skill': '', 'description': ''}, {'role': 'Sports Marketing', 'experience': '', 'skill': '', 'description': ''}, {'role': 'Strategic Planning', 'experience': '', 'skill': '', 'description': ''}, {'role': 'Supply Chain, Distribution & Logistics', 'experience': '', 'skill': '', 'description': ''}, {'role': 'Sustainability', 'experience': '', 'skill': '', 'description': ''}, {'role': 'Technology', 'experience': '', 'skill': '', 'description': ''}]\n"
     ]
    }
   ],
   "source": [
    "job= json_res\n",
    "print(job)"
   ]
  },
  {
   "cell_type": "code",
   "execution_count": 15,
   "metadata": {},
   "outputs": [
    {
     "name": "stdout",
     "output_type": "stream",
     "text": [
      "Subject: Unlock Efficiency and Scalability with AtliQ's AI-Powered Solutions\n",
      "\n",
      "Dear Hiring Manager,\n",
      "\n",
      "I came across your job postings and was impressed by the diverse range of roles you're looking to fill. As a Business Development Executive at AtliQ, I'd like to introduce you to our AI & Software Consulting services that can help streamline your business processes and drive growth.\n",
      "\n",
      "At AtliQ, we've empowered numerous enterprises with tailored solutions that foster scalability, process optimization, cost reduction, and heightened overall efficiency. Our expertise spans across various domains, including:\n",
      "\n",
      "* Digital Transformation\n",
      "* Automation\n",
      "* Data Analytics\n",
      "* Artificial Intelligence\n",
      "* Machine Learning\n",
      "* Cloud Computing\n",
      "\n",
      "Our team of experts has developed innovative solutions for clients across industries, and I'd like to highlight a few relevant examples from our portfolio:\n",
      "\n",
      "* Machine Learning and Python-based solutions: https://example.com/ml-python-portfolio\n",
      "* React and React Native-based solutions: https://example.com/react-portfolio\n",
      "\n",
      "These examples demonstrate our capabilities in developing cutting-edge solutions that drive business value. I believe our expertise can be leveraged to support your organization's growth and success.\n",
      "\n",
      "Specifically, I noticed that you have job postings in areas such as:\n",
      "\n",
      "* Manufacturing & Engineering\n",
      "* Supply Chain, Distribution & Logistics\n",
      "* Technology\n",
      "* Insights & Analytics\n",
      "* Digital\n",
      "\n",
      "Our solutions can help you optimize processes, improve efficiency, and drive innovation in these areas. I'd be happy to schedule a call to discuss how our services can address your specific needs and challenges.\n",
      "\n",
      "Please let me know if you're interested in learning more about how AtliQ can support your organization's growth.\n",
      "\n",
      "Best regards,\n",
      "\n",
      "Mohan\n",
      "Business Development Executive\n",
      "AtliQ\n"
     ]
    }
   ],
   "source": [
    "prompt_email = PromptTemplate.from_template(\n",
    "        \"\"\"\n",
    "        ### JOB DESCRIPTION:\n",
    "        {job_description}\n",
    "        \n",
    "        ### INSTRUCTION:\n",
    "        You are Mohan, a business development executive at AtliQ. AtliQ is an AI & Software Consulting company dedicated to facilitating\n",
    "        the seamless integration of business processes through automated tools. \n",
    "        Over our experience, we have empowered numerous enterprises with tailored solutions, fostering scalability, \n",
    "        process optimization, cost reduction, and heightened overall efficiency. \n",
    "        Your job is to write a cold email to the client regarding the job mentioned above describing the capability of AtliQ \n",
    "        in fulfilling their needs.\n",
    "        Also add the most relevant ones from the following links to showcase Atliq's portfolio: {link_list}\n",
    "        Remember you are Mohan, BDE at AtliQ. \n",
    "        Do not provide a preamble.\n",
    "        ### EMAIL (NO PREAMBLE):\n",
    "        \n",
    "        \"\"\"\n",
    "        )\n",
    "chain_email = prompt_email | llm\n",
    "res = chain_email.invoke({\"job_description\":str(job),\"link_list\": link})\n",
    "print(res.content)\n"
   ]
  }
 ],
 "metadata": {
  "kernelspec": {
   "display_name": "Python 3",
   "language": "python",
   "name": "python3"
  },
  "language_info": {
   "codemirror_mode": {
    "name": "ipython",
    "version": 3
   },
   "file_extension": ".py",
   "mimetype": "text/x-python",
   "name": "python",
   "nbconvert_exporter": "python",
   "pygments_lexer": "ipython3",
   "version": "3.12.1"
  }
 },
 "nbformat": 4,
 "nbformat_minor": 2
}
